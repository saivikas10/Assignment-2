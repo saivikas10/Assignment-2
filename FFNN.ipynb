{
  "nbformat": 4,
  "nbformat_minor": 0,
  "metadata": {
    "colab": {
      "provenance": []
    },
    "kernelspec": {
      "name": "python3",
      "display_name": "Python 3"
    },
    "language_info": {
      "name": "python"
    }
  },
  "cells": [
    {
      "cell_type": "markdown",
      "source": [
        "##Importing Libraries"
      ],
      "metadata": {
        "id": "o9Vgae2buI5l"
      }
    },
    {
      "cell_type": "code",
      "source": [
        "import numpy as np\n",
        "import pandas as pd\n",
        "import torch\n",
        "import torch.nn as nn\n",
        "from torch.nn import init\n",
        "import torch.optim as optim\n",
        "import random\n",
        "import os\n",
        "import time\n",
        "from tqdm import tqdm\n",
        "import json\n",
        "import requests\n",
        "import matplotlib.pyplot as plt\n",
        "from torch.utils.data import DataLoader, Dataset"
      ],
      "metadata": {
        "id": "il_fXUOJtqHc"
      },
      "execution_count": 11,
      "outputs": []
    },
    {
      "cell_type": "markdown",
      "source": [
        "##Loading Data to local"
      ],
      "metadata": {
        "id": "cPAOljsDKkzz"
      }
    },
    {
      "cell_type": "code",
      "source": [
        "\n",
        "training_url = \"https://raw.githubusercontent.com/saivikas10/Assignment-2/refs/heads/main/training.json\"\n",
        "validation_url = \"https://raw.githubusercontent.com/saivikas10/Assignment-2/refs/heads/main/validation.json\"\n",
        "test_url = \"https://raw.githubusercontent.com/saivikas10/Assignment-2/refs/heads/main/test.json\"\n",
        "\n",
        "# Downloadingn dataset files from GitHub\n",
        "def download_data(url, filename):\n",
        "    response = requests.get(url)\n",
        "    with open(filename, 'w') as file:\n",
        "        file.write(response.text)\n",
        "\n",
        "download_data(training_url, 'training_data.json')\n",
        "download_data(validation_url, 'validation_data.json')\n",
        "download_data(test_url, 'test_data.json')\n",
        "print(\"Data files downloaded successfully.\")\n"
      ],
      "metadata": {
        "colab": {
          "base_uri": "https://localhost:8080/"
        },
        "id": "FPvODPfCts18",
        "outputId": "e8bb043f-079a-4e6f-a7ed-18bb070f40d8"
      },
      "execution_count": 12,
      "outputs": [
        {
          "output_type": "stream",
          "name": "stdout",
          "text": [
            "Data files downloaded successfully.\n"
          ]
        }
      ]
    },
    {
      "cell_type": "markdown",
      "source": [
        "##FFNN Model"
      ],
      "metadata": {
        "id": "9mlEl4cgKq7H"
      }
    },
    {
      "cell_type": "code",
      "source": [
        "unk = '<UNK>'\n",
        "# Define the FFNN model class\n",
        "class FFNN(nn.Module):\n",
        "    def __init__(self, input_dim, h):\n",
        "        super(FFNN, self).__init__()\n",
        "        self.h = h\n",
        "        self.W1 = nn.Linear(input_dim, h)\n",
        "        self.activation = nn.ReLU()\n",
        "        self.output_dim = 5\n",
        "        self.W2 = nn.Linear(h, self.output_dim)\n",
        "        self.softmax = nn.LogSoftmax(dim=1)\n",
        "        self.loss = nn.NLLLoss()\n",
        "\n",
        "    def compute_Loss(self, predicted_vector, gold_label):\n",
        "        return self.loss(predicted_vector, gold_label)\n",
        "\n",
        "    def forward(self, input_vector):\n",
        "\n",
        "        # Getting the hidden layer output\n",
        "        hidden_output = self.activation(self.W1(input_vector))\n",
        "\n",
        "        # Getting the output layer input\n",
        "        output_input = self.W2(hidden_output)\n",
        "\n",
        "        # Checking if the output input is 2D (batch size, output dim)\n",
        "        if output_input.dim() == 1:\n",
        "            output_input = output_input.unsqueeze(0)\n",
        "\n",
        "        # Applying softmax to get the predicted probabilities\n",
        "        predicted_vector = self.softmax(output_input)\n",
        "        return predicted_vector"
      ],
      "metadata": {
        "id": "GWOmtrcTtwCW"
      },
      "execution_count": 13,
      "outputs": []
    },
    {
      "cell_type": "markdown",
      "source": [
        "##Helper Functions"
      ],
      "metadata": {
        "id": "ksoB7npPmgCD"
      }
    },
    {
      "cell_type": "code",
      "execution_count": 14,
      "metadata": {
        "id": "moMNlQYEdBum"
      },
      "outputs": [],
      "source": [
        "# Returns:\n",
        "# vocab = A set of strings corresponding to the vocabulary\n",
        "def make_vocab(data):\n",
        "    vocab = set()\n",
        "    for document, _ in data:\n",
        "        for word in document:\n",
        "            vocab.add(word)\n",
        "    return vocab\n",
        "\n",
        "# Returns:\n",
        "# vocab = A set of strings corresponding to the vocabulary including <UNK>\n",
        "# word2index = A dictionary mapping word/token to its index (a number in 0, ..., V - 1)\n",
        "# index2word = A dictionary inverting the mapping of word2index\n",
        "def make_indices(vocab):\n",
        "    vocab_list = sorted(vocab)\n",
        "    vocab_list.append(unk)\n",
        "    word2index = {}\n",
        "    index2word = {}\n",
        "    for index, word in enumerate(vocab_list):\n",
        "        word2index[word] = index\n",
        "        index2word[index] = word\n",
        "    vocab.add(unk)\n",
        "    return vocab, word2index, index2word\n",
        "\n",
        "\n",
        "# Returns:\n",
        "# vectorized_data = A list of pairs (vector representation of input, y)\n",
        "def convert_to_vector_representation(data, word2index):\n",
        "    vectorized_data = []\n",
        "    for document, y in data:\n",
        "        vector = torch.zeros(len(word2index))\n",
        "        for word in document:\n",
        "            index = word2index.get(word, word2index[unk])\n",
        "            vector[index] += 1\n",
        "        vectorized_data.append((vector, y))\n",
        "    return vectorized_data\n",
        "\n",
        "# Loading of training and tessting data\n",
        "def load_data(train_data, val_data):\n",
        "    with open(train_data) as training_f:\n",
        "        training = json.load(training_f)\n",
        "    with open(val_data) as valid_f:\n",
        "        validation = json.load(valid_f)\n",
        "\n",
        "    tra = []\n",
        "    val = []\n",
        "    for elt in training:\n",
        "        tra.append((elt[\"text\"].split(), int(elt[\"stars\"] - 1)))\n",
        "    for elt in validation:\n",
        "        val.append((elt[\"text\"].split(), int(elt[\"stars\"] - 1)))\n",
        "\n",
        "    return tra, val"
      ]
    },
    {
      "cell_type": "code",
      "source": [
        "# Seting default configurations\n",
        "hidden_dim = 10\n",
        "epochs = 5\n",
        "\n",
        "# Runing main training loop with default configurations\n",
        "print(\"========== Loading data ==========\")\n",
        "train_data, valid_data = load_data('training_data.json', 'validation_data.json')\n",
        "vocab = make_vocab(train_data)\n",
        "vocab, word2index, index2word = make_indices(vocab)\n",
        "\n",
        "print(\"========== Vectorizing data ==========\")\n",
        "train_data = convert_to_vector_representation(train_data, word2index)\n",
        "valid_data = convert_to_vector_representation(valid_data, word2index)\n",
        "\n",
        "print(\"==========Running Model for Default Configuration==========\")\n",
        "print(\"Hidden_dim =\", hidden_dim)\n",
        "print(\"Epochs =\", epochs)\n",
        "print(\"Learning Rate =\", 0.01)\n",
        "print(\"Batch Size =\", 16)\n",
        "\n",
        "model = FFNN(input_dim=len(vocab), h=hidden_dim)\n",
        "optimizer = optim.SGD(model.parameters(), lr=0.01, momentum=0.9)\n",
        "print(\"========== Training for {} epochs ==========\".format(epochs))\n",
        "for epoch in range(epochs):\n",
        "    model.train()\n",
        "    optimizer.zero_grad()\n",
        "    loss = None\n",
        "    correct = 0\n",
        "    total = 0\n",
        "    start_time = time.time()\n",
        "    print(\"Training started for epoch {}\".format(epoch + 1))\n",
        "    random.shuffle(train_data)\n",
        "    minibatch_size = 16\n",
        "    N = len(train_data)\n",
        "    for minibatch_index in tqdm(range(N // minibatch_size)):\n",
        "        optimizer.zero_grad()\n",
        "        loss = None\n",
        "        for example_index in range(minibatch_size):\n",
        "            input_vector, gold_label = train_data[minibatch_index * minibatch_size + example_index]\n",
        "            predicted_vector = model(input_vector)\n",
        "            predicted_label = torch.argmax(predicted_vector)\n",
        "            correct += int(predicted_label == gold_label)\n",
        "            total += 1\n",
        "            example_loss = model.compute_Loss(predicted_vector.view(1, -1), torch.tensor([gold_label]))\n",
        "            if loss is None:\n",
        "                loss = example_loss\n",
        "            else:\n",
        "                loss += example_loss\n",
        "        loss = loss / minibatch_size\n",
        "        loss.backward()\n",
        "        optimizer.step()\n",
        "    print(\"Training completed for epoch {}\".format(epoch + 1))\n",
        "    print(\"Training accuracy for epoch {}: {}\".format(epoch + 1, correct / total))\n",
        "    print(\"Training time for this epoch: {}\".format(time.time() - start_time))\n",
        "\n",
        "    # Validation\n",
        "    loss = None\n",
        "    correct = 0\n",
        "    total = 0\n",
        "    start_time = time.time()\n",
        "    print(\"Validation started for epoch {}\".format(epoch + 1))\n",
        "    minibatch_size = 16\n",
        "    N = len(valid_data)\n",
        "    for minibatch_index in tqdm(range(N // minibatch_size)):\n",
        "        optimizer.zero_grad()\n",
        "        loss = None\n",
        "        for example_index in range(minibatch_size):\n",
        "            input_vector, gold_label = valid_data[minibatch_index * minibatch_size + example_index]\n",
        "            predicted_vector = model(input_vector)\n",
        "            predicted_label = torch.argmax(predicted_vector)\n",
        "            correct += int(predicted_label == gold_label)\n",
        "            total += 1\n",
        "            example_loss = model.compute_Loss(predicted_vector.view(1, -1), torch.tensor([gold_label]))\n",
        "            if loss is None:\n",
        "                loss = example_loss\n",
        "            else:\n",
        "                loss += example_loss\n",
        "        loss = loss / minibatch_size\n",
        "    print(\"Validation completed for epoch {}\".format(epoch + 1))\n",
        "    print(\"Validation accuracy for epoch {}: {}\".format(epoch + 1, correct / total))\n",
        "    print(\"Validation time for this epoch: {}\".format(time.time() - start_time))"
      ],
      "metadata": {
        "colab": {
          "base_uri": "https://localhost:8080/"
        },
        "id": "ZXPXUcZ1t6YH",
        "outputId": "66380fd5-d886-4744-e08c-02a50a3d3570"
      },
      "execution_count": 15,
      "outputs": [
        {
          "output_type": "stream",
          "name": "stdout",
          "text": [
            "========== Loading data ==========\n",
            "========== Vectorizing data ==========\n",
            "==========Running Model for Default Configuration==========\n",
            "Hidden_dim = 10\n",
            "Epochs = 5\n",
            "Learning Rate = 0.01\n",
            "Batch Size = 16\n",
            "========== Training for 5 epochs ==========\n",
            "Training started for epoch 1\n"
          ]
        },
        {
          "output_type": "stream",
          "name": "stderr",
          "text": [
            "100%|██████████| 1000/1000 [00:40<00:00, 24.70it/s]\n"
          ]
        },
        {
          "output_type": "stream",
          "name": "stdout",
          "text": [
            "Training completed for epoch 1\n",
            "Training accuracy for epoch 1: 0.38325\n",
            "Training time for this epoch: 40.519893169403076\n",
            "Validation started for epoch 1\n"
          ]
        },
        {
          "output_type": "stream",
          "name": "stderr",
          "text": [
            "100%|██████████| 50/50 [00:00<00:00, 102.89it/s]\n"
          ]
        },
        {
          "output_type": "stream",
          "name": "stdout",
          "text": [
            "Validation completed for epoch 1\n",
            "Validation accuracy for epoch 1: 0.47875\n",
            "Validation time for this epoch: 0.5102505683898926\n",
            "Training started for epoch 2\n"
          ]
        },
        {
          "output_type": "stream",
          "name": "stderr",
          "text": [
            "100%|██████████| 1000/1000 [00:44<00:00, 22.45it/s]\n"
          ]
        },
        {
          "output_type": "stream",
          "name": "stdout",
          "text": [
            "Training completed for epoch 2\n",
            "Training accuracy for epoch 2: 0.4963125\n",
            "Training time for this epoch: 44.56657314300537\n",
            "Validation started for epoch 2\n"
          ]
        },
        {
          "output_type": "stream",
          "name": "stderr",
          "text": [
            "100%|██████████| 50/50 [00:01<00:00, 45.11it/s]\n"
          ]
        },
        {
          "output_type": "stream",
          "name": "stdout",
          "text": [
            "Validation completed for epoch 2\n",
            "Validation accuracy for epoch 2: 0.49875\n",
            "Validation time for this epoch: 1.1324644088745117\n",
            "Training started for epoch 3\n"
          ]
        },
        {
          "output_type": "stream",
          "name": "stderr",
          "text": [
            "100%|██████████| 1000/1000 [00:46<00:00, 21.45it/s]\n"
          ]
        },
        {
          "output_type": "stream",
          "name": "stdout",
          "text": [
            "Training completed for epoch 3\n",
            "Training accuracy for epoch 3: 0.5325625\n",
            "Training time for this epoch: 46.66253900527954\n",
            "Validation started for epoch 3\n"
          ]
        },
        {
          "output_type": "stream",
          "name": "stderr",
          "text": [
            "100%|██████████| 50/50 [00:00<00:00, 108.20it/s]\n"
          ]
        },
        {
          "output_type": "stream",
          "name": "stdout",
          "text": [
            "Validation completed for epoch 3\n",
            "Validation accuracy for epoch 3: 0.53125\n",
            "Validation time for this epoch: 0.4691472053527832\n",
            "Training started for epoch 4\n"
          ]
        },
        {
          "output_type": "stream",
          "name": "stderr",
          "text": [
            "100%|██████████| 1000/1000 [00:44<00:00, 22.57it/s]\n"
          ]
        },
        {
          "output_type": "stream",
          "name": "stdout",
          "text": [
            "Training completed for epoch 4\n",
            "Training accuracy for epoch 4: 0.5579375\n",
            "Training time for this epoch: 44.32746505737305\n",
            "Validation started for epoch 4\n"
          ]
        },
        {
          "output_type": "stream",
          "name": "stderr",
          "text": [
            "100%|██████████| 50/50 [00:00<00:00, 102.93it/s]\n"
          ]
        },
        {
          "output_type": "stream",
          "name": "stdout",
          "text": [
            "Validation completed for epoch 4\n",
            "Validation accuracy for epoch 4: 0.51875\n",
            "Validation time for this epoch: 0.494854211807251\n",
            "Training started for epoch 5\n"
          ]
        },
        {
          "output_type": "stream",
          "name": "stderr",
          "text": [
            "100%|██████████| 1000/1000 [00:45<00:00, 21.84it/s]\n"
          ]
        },
        {
          "output_type": "stream",
          "name": "stdout",
          "text": [
            "Training completed for epoch 5\n",
            "Training accuracy for epoch 5: 0.5838125\n",
            "Training time for this epoch: 45.81553554534912\n",
            "Validation started for epoch 5\n"
          ]
        },
        {
          "output_type": "stream",
          "name": "stderr",
          "text": [
            "100%|██████████| 50/50 [00:00<00:00, 106.87it/s]"
          ]
        },
        {
          "output_type": "stream",
          "name": "stdout",
          "text": [
            "Validation completed for epoch 5\n",
            "Validation accuracy for epoch 5: 0.615\n",
            "Validation time for this epoch: 0.47478389739990234\n"
          ]
        },
        {
          "output_type": "stream",
          "name": "stderr",
          "text": [
            "\n"
          ]
        }
      ]
    },
    {
      "cell_type": "markdown",
      "source": [
        "### **Code to Run Different Configurations and Plot the Best Model**"
      ],
      "metadata": {
        "id": "KcqtWnqlmqc8"
      }
    },
    {
      "cell_type": "code",
      "source": [
        "#Dataset class for handling data format in DataLoader\n",
        "class ReviewDataset(Dataset):\n",
        "    def __init__(self, data):\n",
        "        self.data = data\n",
        "\n",
        "    def __len__(self):\n",
        "        return len(self.data)\n",
        "\n",
        "    def __getitem__(self, idx):\n",
        "        input_vector, label = self.data[idx]\n",
        "        return input_vector, label\n",
        "\n",
        "# Defining the configuration and evaluation function\n",
        "def train_and_evaluate(config, config_num):\n",
        "    model = FFNN(input_dim=len(vocab), h=config['hidden_dim'])\n",
        "    optimizer = optim.SGD(model.parameters(), lr=config['learning_rate'], momentum=0.9)\n",
        "    batch_size = config['batch_size']\n",
        "\n",
        "\n",
        "    train_loader = DataLoader(ReviewDataset(train_data), batch_size=batch_size, shuffle=True)\n",
        "    val_loader = DataLoader(ReviewDataset(valid_data), batch_size=batch_size, shuffle=False)\n",
        "\n",
        "    #Variables for tracking accuracies and losses of epoch\n",
        "    train_losses, validation_accuracies, train_accuracies = [], [], []\n",
        "    print(f\"\\nCONFIGURATION {config_num}:\")\n",
        "    print(f\"Hidden Dim: {config['hidden_dim']}, Epochs: {config['epochs']}, \"\n",
        "          f\"Learning Rate: {config['learning_rate']}, Batch Size: {batch_size}\")\n",
        "\n",
        "    for epoch in range(config['epochs']):\n",
        "        # Training phase with mini-batches\n",
        "        model.train()\n",
        "        total_loss, correct_train, total_train = 0, 0, 0\n",
        "        print(f\"Epoch {epoch + 1}/{config['epochs']}:\")\n",
        "\n",
        "        # Progress bar for training phase\n",
        "        for input_vectors, gold_labels in tqdm(train_loader, desc=f\"Epoch {epoch + 1} Training\", leave=False):\n",
        "            optimizer.zero_grad()\n",
        "            predicted_vectors = model(input_vectors)\n",
        "            loss = model.compute_Loss(predicted_vectors, gold_labels)\n",
        "            loss.backward()\n",
        "            optimizer.step()\n",
        "            total_loss += loss.item()\n",
        "\n",
        "            # Calculate training accuracy for the batch\n",
        "            predicted_labels = torch.argmax(predicted_vectors, dim=1)\n",
        "            correct_train += (predicted_labels == gold_labels).sum().item()\n",
        "            total_train += gold_labels.size(0)\n",
        "\n",
        "        train_loss = total_loss / len(train_loader)\n",
        "        train_losses.append(train_loss)\n",
        "        train_accuracy = correct_train / total_train\n",
        "        train_accuracies.append(train_accuracy)\n",
        "\n",
        "        # Validation phase\n",
        "        model.eval()\n",
        "        correct_val, total_val = 0, 0\n",
        "        with torch.no_grad():\n",
        "            for input_vectors, gold_labels in val_loader:\n",
        "                predicted_vectors = model(input_vectors)\n",
        "                correct_val += (torch.argmax(predicted_vectors, dim=1) == gold_labels).sum().item()\n",
        "                total_val += gold_labels.size(0)\n",
        "        validation_accuracy = correct_val / total_val\n",
        "        validation_accuracies.append(validation_accuracy)\n",
        "\n",
        "        #Showing results of the current epoch after loading completes\n",
        "        print(f\"Training Loss = {train_loss:.4f}, Training Accuracy = {train_accuracy:.4f}, \"\n",
        "              f\"Validation Accuracy = {validation_accuracy:.4f}\")\n",
        "\n",
        "    #Showing final training and validation accuracy of current configuration\n",
        "    print(f\"\\nFinal Training Accuracy for Config {config_num}: {train_accuracies[-1]:.4f}\")\n",
        "    print(f\"Final Validation Accuracy for Config {config_num}: {validation_accuracies[-1]:.4f}\")\n",
        "    print(\"==============\\n\")\n",
        "\n",
        "    return train_losses, train_accuracies, validation_accuracies, validation_accuracies[-1]\n",
        "\n",
        "# Configurations set for hyperparameter tuning with Stochastic Gradient Descent\n",
        "configs = [\n",
        "    {'epochs': 5, 'hidden_dim': 5, 'learning_rate': 0.01, 'batch_size': 16},\n",
        "    {'epochs': 10, 'hidden_dim': 5, 'learning_rate': 0.01, 'batch_size': 16},\n",
        "    {'epochs': 5, 'hidden_dim': 10, 'learning_rate': 0.1, 'batch_size': 32},\n",
        "    {'epochs': 10, 'hidden_dim': 10, 'learning_rate': 0.01, 'batch_size': 32},\n",
        "    {'epochs': 15, 'hidden_dim': 15, 'learning_rate': 0.001, 'batch_size': 64}\n",
        "]\n",
        "\n",
        "#Variables for tracking best model\n",
        "best_validation_accuracy = 0\n",
        "best_train_losses, best_train_accuracies, best_validation_accuracies = None, None, None\n",
        "best_configuration = None\n",
        "config_num = 1\n",
        "\n",
        "#Running model for each configuration and print the results\n",
        "for config in configs:\n",
        "    train_losses, train_accuracies, validation_accuracies, final_validation_accuracy = train_and_evaluate(config, config_num)\n",
        "\n",
        "    # Track the best model according to validation accuracy\n",
        "    if final_validation_accuracy > best_validation_accuracy:\n",
        "        best_validation_accuracy = final_validation_accuracy\n",
        "        best_train_losses, best_train_accuracies, best_validation_accuracies = train_losses, train_accuracies, validation_accuracies\n",
        "        best_configuration = config\n",
        "    config_num += 1\n",
        "\n",
        "#Printing the best model configurations\n",
        "print(\"\\nBest Configuration:\")\n",
        "print(f\"Hidden Dim: {best_configuration['hidden_dim']}\")\n",
        "print( f\"Epochs: {best_configuration['epochs']}\")\n",
        "print(f\"Learning Rate: {best_configuration['learning_rate']}\")\n",
        "print(f\"Batch Size: {best_configuration['batch_size']}\")\n",
        "print(f\"Best Validation Accuracy: {best_validation_accuracy:.4f}\")"
      ],
      "metadata": {
        "colab": {
          "base_uri": "https://localhost:8080/"
        },
        "id": "PwWOK1W-lWeo",
        "outputId": "f88e1bca-75ea-44b2-c0d9-f5513ca8ae10"
      },
      "execution_count": 16,
      "outputs": [
        {
          "output_type": "stream",
          "name": "stdout",
          "text": [
            "\n",
            "CONFIGURATION 1:\n",
            "Hidden Dim: 5, Epochs: 5, Learning Rate: 0.01, Batch Size: 16\n",
            "Epoch 1/5:\n"
          ]
        },
        {
          "output_type": "stream",
          "name": "stderr",
          "text": []
        },
        {
          "output_type": "stream",
          "name": "stdout",
          "text": [
            "Training Loss = 1.4470, Training Accuracy = 0.3508, Validation Accuracy = 0.5112\n",
            "Epoch 2/5:\n"
          ]
        },
        {
          "output_type": "stream",
          "name": "stderr",
          "text": []
        },
        {
          "output_type": "stream",
          "name": "stdout",
          "text": [
            "Training Loss = 1.2188, Training Accuracy = 0.4777, Validation Accuracy = 0.5400\n",
            "Epoch 3/5:\n"
          ]
        },
        {
          "output_type": "stream",
          "name": "stderr",
          "text": []
        },
        {
          "output_type": "stream",
          "name": "stdout",
          "text": [
            "Training Loss = 1.1234, Training Accuracy = 0.5200, Validation Accuracy = 0.5088\n",
            "Epoch 4/5:\n"
          ]
        },
        {
          "output_type": "stream",
          "name": "stderr",
          "text": []
        },
        {
          "output_type": "stream",
          "name": "stdout",
          "text": [
            "Training Loss = 1.0698, Training Accuracy = 0.5452, Validation Accuracy = 0.5950\n",
            "Epoch 5/5:\n"
          ]
        },
        {
          "output_type": "stream",
          "name": "stderr",
          "text": []
        },
        {
          "output_type": "stream",
          "name": "stdout",
          "text": [
            "Training Loss = 1.0163, Training Accuracy = 0.5676, Validation Accuracy = 0.5300\n",
            "\n",
            "Final Training Accuracy for Config 1: 0.5676\n",
            "Final Validation Accuracy for Config 1: 0.5300\n",
            "==============\n",
            "\n",
            "\n",
            "CONFIGURATION 2:\n",
            "Hidden Dim: 5, Epochs: 10, Learning Rate: 0.01, Batch Size: 16\n",
            "Epoch 1/10:\n"
          ]
        },
        {
          "output_type": "stream",
          "name": "stderr",
          "text": []
        },
        {
          "output_type": "stream",
          "name": "stdout",
          "text": [
            "Training Loss = 1.4729, Training Accuracy = 0.3158, Validation Accuracy = 0.3262\n",
            "Epoch 2/10:\n"
          ]
        },
        {
          "output_type": "stream",
          "name": "stderr",
          "text": []
        },
        {
          "output_type": "stream",
          "name": "stdout",
          "text": [
            "Training Loss = 1.3533, Training Accuracy = 0.3651, Validation Accuracy = 0.2250\n",
            "Epoch 3/10:\n"
          ]
        },
        {
          "output_type": "stream",
          "name": "stderr",
          "text": []
        },
        {
          "output_type": "stream",
          "name": "stdout",
          "text": [
            "Training Loss = 1.2910, Training Accuracy = 0.3957, Validation Accuracy = 0.4925\n",
            "Epoch 4/10:\n"
          ]
        },
        {
          "output_type": "stream",
          "name": "stderr",
          "text": []
        },
        {
          "output_type": "stream",
          "name": "stdout",
          "text": [
            "Training Loss = 1.1432, Training Accuracy = 0.4974, Validation Accuracy = 0.4263\n",
            "Epoch 5/10:\n"
          ]
        },
        {
          "output_type": "stream",
          "name": "stderr",
          "text": []
        },
        {
          "output_type": "stream",
          "name": "stdout",
          "text": [
            "Training Loss = 1.0389, Training Accuracy = 0.5463, Validation Accuracy = 0.3500\n",
            "Epoch 6/10:\n"
          ]
        },
        {
          "output_type": "stream",
          "name": "stderr",
          "text": []
        },
        {
          "output_type": "stream",
          "name": "stdout",
          "text": [
            "Training Loss = 0.9912, Training Accuracy = 0.5654, Validation Accuracy = 0.4188\n",
            "Epoch 7/10:\n"
          ]
        },
        {
          "output_type": "stream",
          "name": "stderr",
          "text": []
        },
        {
          "output_type": "stream",
          "name": "stdout",
          "text": [
            "Training Loss = 0.9688, Training Accuracy = 0.5789, Validation Accuracy = 0.5725\n",
            "Epoch 8/10:\n"
          ]
        },
        {
          "output_type": "stream",
          "name": "stderr",
          "text": []
        },
        {
          "output_type": "stream",
          "name": "stdout",
          "text": [
            "Training Loss = 0.9190, Training Accuracy = 0.5992, Validation Accuracy = 0.4163\n",
            "Epoch 9/10:\n"
          ]
        },
        {
          "output_type": "stream",
          "name": "stderr",
          "text": []
        },
        {
          "output_type": "stream",
          "name": "stdout",
          "text": [
            "Training Loss = 0.9002, Training Accuracy = 0.6143, Validation Accuracy = 0.5550\n",
            "Epoch 10/10:\n"
          ]
        },
        {
          "output_type": "stream",
          "name": "stderr",
          "text": []
        },
        {
          "output_type": "stream",
          "name": "stdout",
          "text": [
            "Training Loss = 0.8715, Training Accuracy = 0.6315, Validation Accuracy = 0.5537\n",
            "\n",
            "Final Training Accuracy for Config 2: 0.6315\n",
            "Final Validation Accuracy for Config 2: 0.5537\n",
            "==============\n",
            "\n",
            "\n",
            "CONFIGURATION 3:\n",
            "Hidden Dim: 10, Epochs: 5, Learning Rate: 0.1, Batch Size: 32\n",
            "Epoch 1/5:\n"
          ]
        },
        {
          "output_type": "stream",
          "name": "stderr",
          "text": []
        },
        {
          "output_type": "stream",
          "name": "stdout",
          "text": [
            "Training Loss = 1.5768, Training Accuracy = 0.2399, Validation Accuracy = 0.3962\n",
            "Epoch 2/5:\n"
          ]
        },
        {
          "output_type": "stream",
          "name": "stderr",
          "text": []
        },
        {
          "output_type": "stream",
          "name": "stdout",
          "text": [
            "Training Loss = 1.4932, Training Accuracy = 0.2999, Validation Accuracy = 0.0625\n",
            "Epoch 3/5:\n"
          ]
        },
        {
          "output_type": "stream",
          "name": "stderr",
          "text": []
        },
        {
          "output_type": "stream",
          "name": "stdout",
          "text": [
            "Training Loss = 1.5849, Training Accuracy = 0.2446, Validation Accuracy = 0.4000\n",
            "Epoch 4/5:\n"
          ]
        },
        {
          "output_type": "stream",
          "name": "stderr",
          "text": []
        },
        {
          "output_type": "stream",
          "name": "stdout",
          "text": [
            "Training Loss = 1.4459, Training Accuracy = 0.3446, Validation Accuracy = 0.3975\n",
            "Epoch 5/5:\n"
          ]
        },
        {
          "output_type": "stream",
          "name": "stderr",
          "text": []
        },
        {
          "output_type": "stream",
          "name": "stdout",
          "text": [
            "Training Loss = 1.5036, Training Accuracy = 0.3124, Validation Accuracy = 0.3800\n",
            "\n",
            "Final Training Accuracy for Config 3: 0.3124\n",
            "Final Validation Accuracy for Config 3: 0.3800\n",
            "==============\n",
            "\n",
            "\n",
            "CONFIGURATION 4:\n",
            "Hidden Dim: 10, Epochs: 10, Learning Rate: 0.01, Batch Size: 32\n",
            "Epoch 1/10:\n"
          ]
        },
        {
          "output_type": "stream",
          "name": "stderr",
          "text": []
        },
        {
          "output_type": "stream",
          "name": "stdout",
          "text": [
            "Training Loss = 1.3858, Training Accuracy = 0.4079, Validation Accuracy = 0.3625\n",
            "Epoch 2/10:\n"
          ]
        },
        {
          "output_type": "stream",
          "name": "stderr",
          "text": []
        },
        {
          "output_type": "stream",
          "name": "stdout",
          "text": [
            "Training Loss = 1.1903, Training Accuracy = 0.5059, Validation Accuracy = 0.5100\n",
            "Epoch 3/10:\n"
          ]
        },
        {
          "output_type": "stream",
          "name": "stderr",
          "text": []
        },
        {
          "output_type": "stream",
          "name": "stdout",
          "text": [
            "Training Loss = 1.0602, Training Accuracy = 0.5501, Validation Accuracy = 0.5575\n",
            "Epoch 4/10:\n"
          ]
        },
        {
          "output_type": "stream",
          "name": "stderr",
          "text": []
        },
        {
          "output_type": "stream",
          "name": "stdout",
          "text": [
            "Training Loss = 0.9976, Training Accuracy = 0.5821, Validation Accuracy = 0.5737\n",
            "Epoch 5/10:\n"
          ]
        },
        {
          "output_type": "stream",
          "name": "stderr",
          "text": []
        },
        {
          "output_type": "stream",
          "name": "stdout",
          "text": [
            "Training Loss = 0.9499, Training Accuracy = 0.6014, Validation Accuracy = 0.5687\n",
            "Epoch 6/10:\n"
          ]
        },
        {
          "output_type": "stream",
          "name": "stderr",
          "text": []
        },
        {
          "output_type": "stream",
          "name": "stdout",
          "text": [
            "Training Loss = 0.8912, Training Accuracy = 0.6234, Validation Accuracy = 0.4950\n",
            "Epoch 7/10:\n"
          ]
        },
        {
          "output_type": "stream",
          "name": "stderr",
          "text": []
        },
        {
          "output_type": "stream",
          "name": "stdout",
          "text": [
            "Training Loss = 0.8275, Training Accuracy = 0.6519, Validation Accuracy = 0.4913\n",
            "Epoch 8/10:\n"
          ]
        },
        {
          "output_type": "stream",
          "name": "stderr",
          "text": []
        },
        {
          "output_type": "stream",
          "name": "stdout",
          "text": [
            "Training Loss = 0.7965, Training Accuracy = 0.6693, Validation Accuracy = 0.6025\n",
            "Epoch 9/10:\n"
          ]
        },
        {
          "output_type": "stream",
          "name": "stderr",
          "text": []
        },
        {
          "output_type": "stream",
          "name": "stdout",
          "text": [
            "Training Loss = 0.7738, Training Accuracy = 0.6818, Validation Accuracy = 0.5275\n",
            "Epoch 10/10:\n"
          ]
        },
        {
          "output_type": "stream",
          "name": "stderr",
          "text": []
        },
        {
          "output_type": "stream",
          "name": "stdout",
          "text": [
            "Training Loss = 0.7122, Training Accuracy = 0.7044, Validation Accuracy = 0.5525\n",
            "\n",
            "Final Training Accuracy for Config 4: 0.7044\n",
            "Final Validation Accuracy for Config 4: 0.5525\n",
            "==============\n",
            "\n",
            "\n",
            "CONFIGURATION 5:\n",
            "Hidden Dim: 15, Epochs: 15, Learning Rate: 0.001, Batch Size: 64\n",
            "Epoch 1/15:\n"
          ]
        },
        {
          "output_type": "stream",
          "name": "stderr",
          "text": []
        },
        {
          "output_type": "stream",
          "name": "stdout",
          "text": [
            "Training Loss = 1.5797, Training Accuracy = 0.2643, Validation Accuracy = 0.3438\n",
            "Epoch 2/15:\n"
          ]
        },
        {
          "output_type": "stream",
          "name": "stderr",
          "text": []
        },
        {
          "output_type": "stream",
          "name": "stdout",
          "text": [
            "Training Loss = 1.4869, Training Accuracy = 0.3860, Validation Accuracy = 0.3812\n",
            "Epoch 3/15:\n"
          ]
        },
        {
          "output_type": "stream",
          "name": "stderr",
          "text": []
        },
        {
          "output_type": "stream",
          "name": "stdout",
          "text": [
            "Training Loss = 1.4087, Training Accuracy = 0.4291, Validation Accuracy = 0.3713\n",
            "Epoch 4/15:\n"
          ]
        },
        {
          "output_type": "stream",
          "name": "stderr",
          "text": []
        },
        {
          "output_type": "stream",
          "name": "stdout",
          "text": [
            "Training Loss = 1.3489, Training Accuracy = 0.4546, Validation Accuracy = 0.4288\n",
            "Epoch 5/15:\n"
          ]
        },
        {
          "output_type": "stream",
          "name": "stderr",
          "text": []
        },
        {
          "output_type": "stream",
          "name": "stdout",
          "text": [
            "Training Loss = 1.2972, Training Accuracy = 0.4796, Validation Accuracy = 0.4675\n",
            "Epoch 6/15:\n"
          ]
        },
        {
          "output_type": "stream",
          "name": "stderr",
          "text": []
        },
        {
          "output_type": "stream",
          "name": "stdout",
          "text": [
            "Training Loss = 1.2523, Training Accuracy = 0.5024, Validation Accuracy = 0.4450\n",
            "Epoch 7/15:\n"
          ]
        },
        {
          "output_type": "stream",
          "name": "stderr",
          "text": []
        },
        {
          "output_type": "stream",
          "name": "stdout",
          "text": [
            "Training Loss = 1.2131, Training Accuracy = 0.5175, Validation Accuracy = 0.5038\n",
            "Epoch 8/15:\n"
          ]
        },
        {
          "output_type": "stream",
          "name": "stderr",
          "text": []
        },
        {
          "output_type": "stream",
          "name": "stdout",
          "text": [
            "Training Loss = 1.1812, Training Accuracy = 0.5282, Validation Accuracy = 0.5463\n",
            "Epoch 9/15:\n"
          ]
        },
        {
          "output_type": "stream",
          "name": "stderr",
          "text": []
        },
        {
          "output_type": "stream",
          "name": "stdout",
          "text": [
            "Training Loss = 1.1495, Training Accuracy = 0.5417, Validation Accuracy = 0.5425\n",
            "Epoch 10/15:\n"
          ]
        },
        {
          "output_type": "stream",
          "name": "stderr",
          "text": []
        },
        {
          "output_type": "stream",
          "name": "stdout",
          "text": [
            "Training Loss = 1.1249, Training Accuracy = 0.5500, Validation Accuracy = 0.4975\n",
            "Epoch 11/15:\n"
          ]
        },
        {
          "output_type": "stream",
          "name": "stderr",
          "text": []
        },
        {
          "output_type": "stream",
          "name": "stdout",
          "text": [
            "Training Loss = 1.1004, Training Accuracy = 0.5639, Validation Accuracy = 0.5262\n",
            "Epoch 12/15:\n"
          ]
        },
        {
          "output_type": "stream",
          "name": "stderr",
          "text": []
        },
        {
          "output_type": "stream",
          "name": "stdout",
          "text": [
            "Training Loss = 1.0737, Training Accuracy = 0.5743, Validation Accuracy = 0.5262\n",
            "Epoch 13/15:\n"
          ]
        },
        {
          "output_type": "stream",
          "name": "stderr",
          "text": []
        },
        {
          "output_type": "stream",
          "name": "stdout",
          "text": [
            "Training Loss = 1.0553, Training Accuracy = 0.5810, Validation Accuracy = 0.5250\n",
            "Epoch 14/15:\n"
          ]
        },
        {
          "output_type": "stream",
          "name": "stderr",
          "text": []
        },
        {
          "output_type": "stream",
          "name": "stdout",
          "text": [
            "Training Loss = 1.0314, Training Accuracy = 0.5928, Validation Accuracy = 0.5238\n",
            "Epoch 15/15:\n"
          ]
        },
        {
          "output_type": "stream",
          "name": "stderr",
          "text": []
        },
        {
          "output_type": "stream",
          "name": "stdout",
          "text": [
            "Training Loss = 1.0127, Training Accuracy = 0.6021, Validation Accuracy = 0.5375\n",
            "\n",
            "Final Training Accuracy for Config 5: 0.6021\n",
            "Final Validation Accuracy for Config 5: 0.5375\n",
            "==============\n",
            "\n",
            "\n",
            "Best Configuration:\n",
            "Hidden Dim: 5\n",
            "Epochs: 10\n",
            "Learning Rate: 0.01\n",
            "Batch Size: 16\n",
            "Best Validation Accuracy: 0.5537\n"
          ]
        }
      ]
    },
    {
      "cell_type": "markdown",
      "source": [
        "##Plotting the accuracy vs Epochs"
      ],
      "metadata": {
        "id": "028w1TiaLJuu"
      }
    },
    {
      "cell_type": "code",
      "source": [
        "plt.figure(figsize=(18, 5))\n",
        "\n",
        "# Training Loss plot\n",
        "plt.subplot(1, 3, 1)\n",
        "plt.title('Training Loss vs Epochs (Best Model)')\n",
        "plt.xlabel('Epochs')\n",
        "plt.ylabel('Training Loss')\n",
        "plt.plot(range(1, len(best_train_losses) + 1), best_train_losses, marker='o')\n",
        "\n",
        "# Training Accuracy plot\n",
        "plt.subplot(1, 3, 2)\n",
        "plt.title('Training Accuracy vs Epochs (Best Model)')\n",
        "plt.xlabel('Epochs')\n",
        "plt.ylabel('Training Accuracy')\n",
        "plt.plot(range(1, len(best_train_accuracies) + 1), best_train_accuracies, marker='o')\n",
        "\n",
        "# Validation Accuracy plot\n",
        "plt.subplot(1, 3, 3)\n",
        "plt.title('Validation Accuracy vs Epochs (Best Model)')\n",
        "plt.xlabel('Epochs')\n",
        "plt.ylabel('Validation Accuracy')\n",
        "plt.plot(range(1, len(best_validation_accuracies) + 1), best_validation_accuracies, marker='o')\n",
        "\n",
        "plt.tight_layout()\n",
        "plt.show()"
      ],
      "metadata": {
        "colab": {
          "base_uri": "https://localhost:8080/",
          "height": 382
        },
        "id": "QcZrYKZ0uA5x",
        "outputId": "65993c19-ad10-4eba-ca47-a9940e0f0a5a"
      },
      "execution_count": 17,
      "outputs": [
        {
          "output_type": "display_data",
          "data": {
            "text/plain": [
              "<Figure size 1800x500 with 3 Axes>"
            ],
            "image/png": "[encoded data removed]"
          },
          "metadata": {}
        }
      ]
    },
    {
      "cell_type": "markdown",
      "source": [
        "### **Testing the Best Model**"
      ],
      "metadata": {
        "id": "i3PojbsSoawN"
      }
    },
    {
      "cell_type": "code",
      "source": [
        "#Evaluation function for Test Data\n",
        "def evaluate_on_test_data(model, test_data):\n",
        "    model.eval()\n",
        "    test_correct, test_total = 0, 0\n",
        "    test_loader = DataLoader(ReviewDataset(test_data), batch_size=best_configuration['batch_size'])\n",
        "\n",
        "    with torch.no_grad():\n",
        "        for input_vectors, gold_label in test_loader:\n",
        "            predicted_vector = model(input_vectors)\n",
        "            predicted_label = torch.argmax(predicted_vector, dim=1)\n",
        "            test_correct += (predicted_label == gold_label).sum().item()\n",
        "            test_total += gold_label.size(0)\n",
        "\n",
        "    test_accuracy = test_correct / test_total if total > 0 else 0\n",
        "    print(f\"Test Accuracy for Best Model: {test_accuracy:.4f}\")\n",
        "\n",
        "# Ensuring test_data is vectorized using the same word2index as used for training and validation data\n",
        "test_data = load_data('test_data.json', 'test_data.json')[0]\n",
        "test_data = convert_to_vector_representation(test_data, word2index)\n",
        "\n",
        "# Evaluating the Best model\n",
        "BestModel = FFNN(input_dim=len(vocab), h=best_configuration['hidden_dim'])\n",
        "evaluate_on_test_data(BestModel, test_data)"
      ],
      "metadata": {
        "colab": {
          "base_uri": "https://localhost:8080/"
        },
        "id": "DRxM3qUgoMaN",
        "outputId": "67756a30-b75d-4d6f-e55a-2ec322b05708"
      },
      "execution_count": 20,
      "outputs": [
        {
          "output_type": "stream",
          "name": "stdout",
          "text": [
            "Test Accuracy for Best Model: 0.4000\n"
          ]
        }
      ]
    }
  ]
}